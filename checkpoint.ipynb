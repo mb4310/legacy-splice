{
 "cells": [
  {
   "cell_type": "code",
   "execution_count": 1,
   "metadata": {},
   "outputs": [],
   "source": [
    "import torch.nn as nn\n",
    "import torch.nn.functional as F\n",
    "import torch\n",
    "import fastai\n",
    "import fastai.vision\n",
    "import time, copy\n",
    "from pathlib import Path\n",
    "import core"
   ]
  },
  {
   "cell_type": "code",
   "execution_count": 2,
   "metadata": {},
   "outputs": [],
   "source": [
    "import argparse\n",
    "import torch.nn as nn\n",
    "import torch.nn.functional as F\n",
    "import torch\n",
    "import fastai\n",
    "import fastai.vision\n",
    "import time, copy\n",
    "import core\n",
    "import numpy as np\n",
    "import pandas as pd\n",
    "import pickle\n",
    "from pathlib import Path\n",
    "\n",
    "path = Path('experiments')\n",
    "exp_path = path/'FOOD_01'\n",
    "config_path = exp_path/'config.pickle'\n",
    "\n",
    "with open(config_path, 'rb') as handle:\n",
    "    args = pickle.load(handle)\n"
   ]
  },
  {
   "cell_type": "code",
   "execution_count": 3,
   "metadata": {},
   "outputs": [
    {
     "data": {
      "text/plain": [
       "{'name': 'FOOD_01',\n",
       " 'dataset': 'FOOD',\n",
       " 'initial_splice': [[64, 1, 0], [128, 2, 0]],\n",
       " 'splice': [[128, 2, 0]],\n",
       " 'early_stop': True,\n",
       " 'batch_size': 64,\n",
       " 'image_size': 112,\n",
       " 'stop_percent': 0.002,\n",
       " 'seed': 229,\n",
       " 'save': False,\n",
       " 'max_lr': 0.0005,\n",
       " 'num_epochs': 30,\n",
       " 'n_trials': 3}"
      ]
     },
     "execution_count": 3,
     "metadata": {},
     "output_type": "execute_result"
    }
   ],
   "source": [
    "args"
   ]
  },
  {
   "cell_type": "markdown",
   "metadata": {},
   "source": [
    "# Neural Splicing\n",
    "\n",
    "Transfer learning has seen much success in the field of computer vision and more recently natural language processing. Specific approaches vary considerably, here we focus on extending a commonly used technique in which some of the weights and biases of a pre-trained model are loaded into a new architecture which is repurposed to some new tasks. This method has long since seen success in computer vision tasks and more recently in the field of natural language processing, popularized by Jeremy Howard and Sebastian Ruder in their paper introducing [ULMFiT ](https://arxiv.org/abs/1801.06146) and in Jeremy's [courses at fast.ai](https://course.fast.ai/) and later extended upon by folks at [google](https://ai.googleblog.com/2018/11/open-sourcing-bert-state-of-art-pre.html) (adding bidirectionality) and [open.ai](https://blog.openai.com/language-unsupervised/) (replacing LSTM core with a transformer), altogether resulting in many state-of-the-art NLP results.\n",
    "\n",
    "Broadly speaking, this approach can be thought of as viewing a pretrained model as being composed of two pieces: a general-purpose *body* or *core* and a task-specific *head*. Thus far, applications of this approach involve replacing an existing *head* with a new one tailored for a specific task. Typically, in CV/NLP the core consists of the convolutional/recurrent components respectively, whereas the head is consist of pooling/flattening layers followed by a shallow multi-layer perceptron.\n",
    "\n",
    "Here we investigate the question: why is in each of these cases the new component is added only **on top of** existing components? Can anything be gained by **splicing new components directly into the core architecture**?\n",
    "\n",
    "Let us illustrate witha concrete example: suppose we has trained the following MLP for some regression task:\n",
    "\n",
    "`\n",
    "m = (nn.Sequential(nn.Linear(2,5), \n",
    "                   nn.ReLU(), \n",
    "                   nn.Linear(5,9), \n",
    "                   nn.ReLU(), \n",
    "                   nn.Linear(9,1)))\n",
    "`\n",
    "\n",
    "and one would like to add a layer *between* the first and second linear layer:\n",
    "\n",
    "`\n",
    "m_splice = (nn.Sequential(nn.Linear(2,5), \n",
    "                          nn.ReLU(), \n",
    "                          nn.Linear(5,5),      #Additional, un-trained component\n",
    "                          nn.ReLU(), \n",
    "                          nn.Linear(5,9), \n",
    "                          nn.ReLU(), \n",
    "                          nn.Linear(9,1)))\n",
    "`\n",
    "\n",
    "Some observations: if the weights of the newly introduced layer are initialized randomly, then we can be certain that model performance will collapse. Since the original layers were trained together, layer two (nn.Linear(5,9)) *expects* inputs to look a certain way, (e.g look like something layer one would have output). Essentially this degradation would be the result of an extreme case of covariate shift which would defeat the purpose of using the pre-trained weights.\n",
    "\n",
    "On the other hand, if we initialize the bias to zero and the weights to identity matrix, then the new layer has *no effect* on the model initially. Then if we freeze the learning rate on all the original layers, we can think of learning the weights of our new component as learning a post-processing of layer one output to be more 'palatable' for the rest of the network to consume in a similar spirit as batch-norm is introduced to post-process the output of layers to have desirable sample statistics. In practice, we anneal the learning rate on the layers surrounding the splice gradually from zero to some stable level while annealing the learning rate on the spliced component along a one cycle schedule as introduced [here](https://arxiv.org/abs/1708.07120). By monitoring gradient norms through the added component(s) as well as the original layers, one can propose a metric for determining the extent to which the architecture has 'accepted' or 'rejected' the new components. \n",
    "\n",
    "In this repo, we focus for now on convolutional and linear splicing and postpone experiments with splicing into recurrent architectures to a later date. Specifically, we are interested in exploring the following questions:\n",
    "\n",
    "1) If we begin by training an architecture (A1) to some stop criterion (where reduction in loss is minimal, over overfitting begins to occur, etc.) and then splice in components to achieve architecture (A2), are we able to train (A2) further to achieve an overall lower loss (or else better performance by some specified metric)? \n",
    "\n",
    "2) Consider fully trained architecture (A2) above, along with full training history (pre- and post- splice, beginning from scratch). Make a copy of the architecture denoted (B2) and re-initialize weights randomly and train (B2) from scratch. We are interested:\n",
    "* Does (B2) achieve worse, the same, or better *ultimate* performance (with a pre-defined stopping criterion specified a priori) as compared to (A2)\n",
    "* How does the complete training history of (A2*) compare to that of (A2)? \n",
    "        \n",
    "       \n",
    "An affirmative response to question (1) suggests a cheap, fast procedure for incrementally increasing a trained model's performance if slight increase in performance is necessary for an application. \n",
    "\n",
    "A positive response to question (2) suggests alternative paradigms for training deep neural networks, rather than initializing a very deep network completely at random, perhaps it is faster, more efficient, or ultimately result in a better performance if one begins with a shallower network and gradually adds depth, splicing in layers over time and training them gradually. "
   ]
  },
  {
   "cell_type": "markdown",
   "metadata": {},
   "source": [
    "## Loading  data\n",
    "\n",
    "We make use of fastai easy-to-use data block API for loading one of several common datasets to test our approach. "
   ]
  },
  {
   "cell_type": "code",
   "execution_count": null,
   "metadata": {},
   "outputs": [],
   "source": [
    "\"\"\" Loading the MNIST dataset...\n",
    "url = fastai.datasets.URLs.MNIST\n",
    "path = fastai.datasets.untar_data(url)\n",
    "data = fastai.vision.ImageDataBunch.from_folder(path, train='training', valid='testing')\n",
    "learn = fastai.vision.create_cnn(data, models.resnet18, metrics=accuracy)\n",
    "\"\"\""
   ]
  },
  {
   "cell_type": "code",
   "execution_count": null,
   "metadata": {},
   "outputs": [],
   "source": [
    "\"\"\" Loading the CIFAR dataset...\n",
    "url = fastai.datasets.URLs.CIFAR\n",
    "path = fastai.datasets.untar_data(url)\n",
    "data = (fastai.vision.ImageItemList.from_folder(path)\n",
    "        .split_by_folder(train='train', valid='test')\n",
    "        .label_from_folder()\n",
    "        .transform(fastai.vision.get_transforms(), size=224)\n",
    "        .databunch(bs=64))\n",
    "\"\"\""
   ]
  },
  {
   "cell_type": "code",
   "execution_count": null,
   "metadata": {},
   "outputs": [],
   "source": [
    "\"\"\"  Loading the PETS dataset ... \n",
    "func = lambda x: str(x)[46:].rstrip('.jpg1234567890').rstrip('_')\n",
    "url = fastai.datasets.URLs.PETS\n",
    "path = fastai.datasets.untar_data(url)\n",
    "data = (fastai.vision.ImageItemList.from_folder(path/'images')\n",
    "        .random_split_by_pct()\n",
    "        .label_from_func(func)\n",
    "        .transform(fastai.vision.get_transforms(), size=224)\n",
    "        .databunch(bs=64))\n",
    "\"\"\""
   ]
  },
  {
   "cell_type": "code",
   "execution_count": 2,
   "metadata": {},
   "outputs": [],
   "source": [
    "\"\"\"To load the FOOD dataset...\"\"\"\n",
    "path = Path('/home/max/Desktop/datasets/food-101/images')\n",
    "data = (fastai.vision.ImageItemList.from_folder(path)\n",
    "        .random_split_by_pct()\n",
    "        .label_from_folder()\n",
    "        .transform(fastai.vision.get_transforms(), size=112)\n",
    "        .databunch(bs=64))"
   ]
  },
  {
   "cell_type": "code",
   "execution_count": null,
   "metadata": {},
   "outputs": [],
   "source": []
  },
  {
   "cell_type": "code",
   "execution_count": 2,
   "metadata": {},
   "outputs": [],
   "source": [
    "func = lambda x: str(x)[46:].rstrip('.jpg1234567890').rstrip('_')\n",
    "url = fastai.datasets.URLs.PETS\n",
    "path = fastai.datasets.untar_data(url)\n",
    "data = (fastai.vision.ImageItemList.from_folder(path/'images')\n",
    "        .random_split_by_pct()\n",
    "        .label_from_func(func)\n",
    "        .transform(fastai.vision.get_transforms(), size=112)\n",
    "        .databunch(bs=8))"
   ]
  },
  {
   "cell_type": "code",
   "execution_count": null,
   "metadata": {},
   "outputs": [],
   "source": []
  },
  {
   "cell_type": "markdown",
   "metadata": {},
   "source": [
    "## Fastai benchmark\n",
    "\n",
    "While we're here might as well check out how fast.ai does on this task just to see how we're going along. You'll  notice how easy to use their API is (if you haven't checked it out yet, I highly recommend taking a look!)  Notice also we don't keep the pre-trained resnet weights for now since we're training our model from scratch too. "
   ]
  },
  {
   "cell_type": "code",
   "execution_count": 88,
   "metadata": {},
   "outputs": [],
   "source": [
    "learn = fastai.basic_train.Learner(data, model=core.cnn(nc=data.c), loss_func=nn.CrossEntropyLoss(), metrics=fastai.metrics.accuracy)"
   ]
  },
  {
   "cell_type": "code",
   "execution_count": 89,
   "metadata": {},
   "outputs": [
    {
     "name": "stdout",
     "output_type": "stream",
     "text": [
      "LR Finder is complete, type {learner_name}.recorder.plot() to see the graph.\n"
     ]
    },
    {
     "data": {
      "image/png": "[encoded data removed]",
      "text/plain": [
       "<Figure size 432x288 with 1 Axes>"
      ]
     },
     "metadata": {
      "needs_background": "light"
     },
     "output_type": "display_data"
    }
   ],
   "source": [
    "learn.lr_find(); learn.recorder.plot()"
   ]
  },
  {
   "cell_type": "code",
   "execution_count": null,
   "metadata": {},
   "outputs": [
    {
     "data": {
      "text/html": [
       "\n",
       "    <div>\n",
       "        <style>\n",
       "            /* Turns off some styling */\n",
       "            progress {\n",
       "                /* gets rid of default border in Firefox and Opera. */\n",
       "                border: none;\n",
       "                /* Needs to be in here for Safari polyfill so background images work as expected. */\n",
       "                background-size: auto;\n",
       "            }\n",
       "            .progress-bar-interrupted, .progress-bar-interrupted::-webkit-progress-bar {\n",
       "                background: #F44336;\n",
       "            }\n",
       "        </style>\n",
       "      <progress value='2' class='' max='4', style='width:300px; height:20px; vertical-align: middle;'></progress>\n",
       "      50.00% [2/4 15:40<15:40]\n",
       "    </div>\n",
       "    \n",
       "<table style='width:300px; margin-bottom:10px'>\n",
       "  <tr>\n",
       "    <th>epoch</th>\n",
       "    <th>train_loss</th>\n",
       "    <th>valid_loss</th>\n",
       "    <th>accuracy</th>\n",
       "  </tr>\n",
       "  <tr>\n",
       "    <th>1</th>\n",
       "    <th>4.075088</th>\n",
       "    <th>3.874008</th>\n",
       "    <th>0.118218</th>\n",
       "  </tr>\n",
       "  <tr>\n",
       "    <th>2</th>\n",
       "    <th>3.618849</th>\n",
       "    <th>3.475125</th>\n",
       "    <th>0.202030</th>\n",
       "  </tr>\n",
       "</table>\n",
       "\n",
       "\n",
       "    <div>\n",
       "        <style>\n",
       "            /* Turns off some styling */\n",
       "            progress {\n",
       "                /* gets rid of default border in Firefox and Opera. */\n",
       "                border: none;\n",
       "                /* Needs to be in here for Safari polyfill so background images work as expected. */\n",
       "                background-size: auto;\n",
       "            }\n",
       "            .progress-bar-interrupted, .progress-bar-interrupted::-webkit-progress-bar {\n",
       "                background: #F44336;\n",
       "            }\n",
       "        </style>\n",
       "      <progress value='544' class='' max='10100', style='width:300px; height:20px; vertical-align: middle;'></progress>\n",
       "      5.39% [544/10100 00:22<06:26 3.6088]\n",
       "    </div>\n",
       "    "
      ],
      "text/plain": [
       "<IPython.core.display.HTML object>"
      ]
     },
     "metadata": {},
     "output_type": "display_data"
    }
   ],
   "source": [
    "learn.fit_one_cycle(4, max_lr=1e-3)"
   ]
  },
  {
   "cell_type": "code",
   "execution_count": null,
   "metadata": {},
   "outputs": [],
   "source": [
    "learn.fit_one_cycle(4, max_lr=1e-3)"
   ]
  },
  {
   "cell_type": "code",
   "execution_count": null,
   "metadata": {},
   "outputs": [],
   "source": [
    "learn.fit_one_cycle(4, max_lr=1e-3)"
   ]
  },
  {
   "cell_type": "code",
   "execution_count": null,
   "metadata": {},
   "outputs": [],
   "source": [
    "learn = fastai.basic_train.Learner(data, model=core.cnn(nc=data.c), loss_func=nn.CrossEntropyLoss(), metrics=fastai.metrics.accuracy)"
   ]
  },
  {
   "cell_type": "code",
   "execution_count": null,
   "metadata": {},
   "outputs": [],
   "source": [
    "learn.fit_one_cycle(12, max_lr=1e-3)"
   ]
  },
  {
   "cell_type": "markdown",
   "metadata": {},
   "source": [
    "## Set up \n",
    "Feel free to check out /.core for implementation details..."
   ]
  },
  {
   "cell_type": "code",
   "execution_count": 3,
   "metadata": {},
   "outputs": [],
   "source": [
    "dls = {'train':data.train_dl, 'val':data.valid_dl}\n",
    "model = core.cnn(nc=data.c).cuda()\n",
    "model.init_opts()\n",
    "model.init_params()\n",
    "crit = nn.CrossEntropyLoss()\n",
    "opt = torch.optim.Adam(model.parameters(), betas=(0.65,0.95))"
   ]
  },
  {
   "cell_type": "code",
   "execution_count": 4,
   "metadata": {},
   "outputs": [
    {
     "ename": "TypeError",
     "evalue": "unsupported operand type(s) for +: 'generator' and 'generator'",
     "output_type": "error",
     "traceback": [
      "\u001b[0;31m---------------------------------------------------------------------------\u001b[0m",
      "\u001b[0;31mTypeError\u001b[0m                                 Traceback (most recent call last)",
      "\u001b[0;32m<ipython-input-4-c4d0bd4899d3>\u001b[0m in \u001b[0;36m<module>\u001b[0;34m\u001b[0m\n\u001b[0;32m----> 1\u001b[0;31m \u001b[0mmodel\u001b[0m\u001b[0;34m.\u001b[0m\u001b[0mparameters\u001b[0m\u001b[0;34m(\u001b[0m\u001b[0;34m)\u001b[0m \u001b[0;34m+\u001b[0m \u001b[0mmodel\u001b[0m\u001b[0;34m.\u001b[0m\u001b[0mparameters\u001b[0m\u001b[0;34m(\u001b[0m\u001b[0;34m)\u001b[0m\u001b[0;34m\u001b[0m\u001b[0;34m\u001b[0m\u001b[0m\n\u001b[0m",
      "\u001b[0;31mTypeError\u001b[0m: unsupported operand type(s) for +: 'generator' and 'generator'"
     ]
    }
   ],
   "source": [
    "model.parameters() + model.parameters()"
   ]
  },
  {
   "cell_type": "code",
   "execution_count": null,
   "metadata": {},
   "outputs": [],
   "source": []
  },
  {
   "cell_type": "code",
   "execution_count": null,
   "metadata": {},
   "outputs": [],
   "source": []
  },
  {
   "cell_type": "code",
   "execution_count": null,
   "metadata": {},
   "outputs": [],
   "source": []
  },
  {
   "cell_type": "code",
   "execution_count": 5,
   "metadata": {},
   "outputs": [],
   "source": [
    "initial_splice = [[64,1,0], [64,1,0], [128,2,0]]"
   ]
  },
  {
   "cell_type": "code",
   "execution_count": 6,
   "metadata": {},
   "outputs": [],
   "source": [
    "for nf, b_idx, i_idx in initial_splice:\n",
    "    model.splice(nf=nf, b_idx=b_idx, i_idx=i_idx)"
   ]
  },
  {
   "cell_type": "code",
   "execution_count": 7,
   "metadata": {},
   "outputs": [],
   "source": [
    "model.init_params()"
   ]
  },
  {
   "cell_type": "code",
   "execution_count": 11,
   "metadata": {},
   "outputs": [],
   "source": [
    "opt = torch.optim.Adam(model.parameters())"
   ]
  },
  {
   "cell_type": "code",
   "execution_count": null,
   "metadata": {},
   "outputs": [],
   "source": []
  },
  {
   "cell_type": "code",
   "execution_count": 10,
   "metadata": {},
   "outputs": [],
   "source": [
    "old_model = copy.deepcopy(model)"
   ]
  },
  {
   "cell_type": "code",
   "execution_count": null,
   "metadata": {},
   "outputs": [],
   "source": []
  },
  {
   "cell_type": "code",
   "execution_count": 12,
   "metadata": {},
   "outputs": [
    {
     "ename": "TypeError",
     "evalue": "cannot unpack non-iterable NoneType object",
     "output_type": "error",
     "traceback": [
      "\u001b[0;31m---------------------------------------------------------------------------\u001b[0m",
      "\u001b[0;31mTypeError\u001b[0m                                 Traceback (most recent call last)",
      "\u001b[0;32m<ipython-input-12-77c18709cf25>\u001b[0m in \u001b[0;36m<module>\u001b[0;34m\u001b[0m\n\u001b[1;32m      1\u001b[0m \u001b[0mlrf\u001b[0m \u001b[0;34m=\u001b[0m \u001b[0mcore\u001b[0m\u001b[0;34m.\u001b[0m\u001b[0mLearningRateFinder\u001b[0m\u001b[0;34m(\u001b[0m\u001b[0mopt\u001b[0m\u001b[0;34m,\u001b[0m \u001b[0mnits\u001b[0m\u001b[0;34m=\u001b[0m\u001b[0;36m300\u001b[0m\u001b[0;34m,\u001b[0m \u001b[0mmin_lr\u001b[0m\u001b[0;34m=\u001b[0m\u001b[0;36m1e-6\u001b[0m\u001b[0;34m,\u001b[0m \u001b[0mmax_lr\u001b[0m\u001b[0;34m=\u001b[0m\u001b[0;36m1e-1\u001b[0m\u001b[0;34m)\u001b[0m\u001b[0;34m\u001b[0m\u001b[0;34m\u001b[0m\u001b[0m\n\u001b[0;32m----> 2\u001b[0;31m \u001b[0mlr\u001b[0m\u001b[0;34m,\u001b[0m \u001b[0mmodel\u001b[0m \u001b[0;34m=\u001b[0m \u001b[0mlrf\u001b[0m\u001b[0;34m.\u001b[0m\u001b[0mlr_find\u001b[0m\u001b[0;34m(\u001b[0m\u001b[0mmodel\u001b[0m\u001b[0;34m,\u001b[0m \u001b[0mdata\u001b[0m\u001b[0;34m.\u001b[0m\u001b[0mtrain_dl\u001b[0m\u001b[0;34m,\u001b[0m \u001b[0mcrit\u001b[0m\u001b[0;34m)\u001b[0m\u001b[0;34m\u001b[0m\u001b[0;34m\u001b[0m\u001b[0m\n\u001b[0m",
      "\u001b[0;31mTypeError\u001b[0m: cannot unpack non-iterable NoneType object"
     ]
    },
    {
     "data": {
      "image/png": "[encoded data removed]",
      "text/plain": [
       "<Figure size 432x288 with 1 Axes>"
      ]
     },
     "metadata": {
      "needs_background": "light"
     },
     "output_type": "display_data"
    }
   ],
   "source": [
    "lrf = core.LearningRateFinder(opt, nits=300, min_lr=1e-6, max_lr=1e-1)\n",
    "lrf.lr_find(model, data.train_dl, crit)"
   ]
  },
  {
   "cell_type": "code",
   "execution_count": null,
   "metadata": {},
   "outputs": [],
   "source": [
    "model.fit(crit, dls, num_epochs=5)"
   ]
  },
  {
   "cell_type": "code",
   "execution_count": 27,
   "metadata": {},
   "outputs": [],
   "source": [
    "import pandas as pd\n",
    "import matplotlib.pyplot as plt\n",
    "import numpy as np\n",
    "import scipy as sp\n",
    "\n",
    "\n",
    "class Smoother():\n",
    "    def __init__(self, beta=0.95):\n",
    "        self.beta, self.n, self.mov_avg = beta, 0, 0\n",
    "        self.vals = []\n",
    "\n",
    "    def add_value(self, val):\n",
    "        self.n += 1\n",
    "        self.mov_avg = self.beta * self.mov_avg + (1-self.beta)*val\n",
    "        self.vals.append(self.mov_avg/(1-self.beta**self.n))\n",
    "\n",
    "    def process(self,array):\n",
    "        for item in array:\n",
    "            self.add_value(item)\n",
    "        return self.vals\n",
    "\n",
    "    def reset(self):\n",
    "        self.n, self.mov_avg, self.vals = 0,0,[]\n",
    "\n",
    "class Stepper():\n",
    "    def __init__(self, opt):\n",
    "        self.it = 0\n",
    "        self.opt = opt\n",
    "        self.nits = 1\n",
    "\n",
    "    def step(self):\n",
    "        self.opt.step()\n",
    "\n",
    "    def zero_grad(self):\n",
    "        self.opt.zero_grad()\n",
    "    \n",
    "    @staticmethod\n",
    "    def cosine_anneal(pct, max_val, min_val):\n",
    "        return min_val + (max_val - min_val) / 2 *(1+np.cos(np.pi * pct))\n",
    "    \n",
    "    @staticmethod\n",
    "    def exp_anneal(pct, start, stop):\n",
    "        return start * (stop/start)**pct\n",
    "    \n",
    "    @staticmethod\n",
    "    def linear_anneal(pct, start, stop):\n",
    "        return (1-pct)*start + pct*stop"
   ]
  },
  {
   "cell_type": "code",
   "execution_count": 63,
   "metadata": {},
   "outputs": [],
   "source": [
    "class LearningRateFinder(Stepper):\n",
    "    def __init__(self, opt, nits=500, min_lr=1e-6, max_lr=1e-1):\n",
    "        super(LearningRateFinder, self).__init__(opt)\n",
    "        self.min_lr = min_lr\n",
    "        self.max_lr = max_lr\n",
    "        self.pct_start = 0\n",
    "        self.nits = nits\n",
    "        for group in self.opt.param_groups:\n",
    "            group['lr'] = min_lr\n",
    "    \n",
    "    def step(self):\n",
    "        self.opt.step()\n",
    "        self.it+=1 \n",
    "        new_lr = self.exp_anneal(self.it / self.nits, self.min_lr, self.max_lr)\n",
    "        for group in self.opt.param_groups:\n",
    "            group['lr'] = new_lr\n",
    "    \n",
    "    def plot_lr_find(self,tr_history, clip=True):                                \n",
    "        fig, ax = plt.subplots()\n",
    "        if clip:\n",
    "            start = int(0.05 * len(tr_history))\n",
    "            end = int(0.90 * len(tr_history))\n",
    "            tr_history = tr_history.iloc[start:end]\n",
    "        ax.plot(tr_history.learning_rate, tr_history.tr_loss)\n",
    "        ax.set_xscale('log')\n",
    "        ax.legend()\n",
    "        ax.set_xlabel('Learning Rate')\n",
    "        ax.set_ylabel('Loss')\n",
    "        rec_idx = self.suggest_lr(tr_history)\n",
    "        rec_lr, rec_loss = tr_history.iloc[rec_idx].learning_rate, tr_history.iloc[rec_idx].tr_loss\n",
    "        ax.plot([rec_lr],[rec_loss], 'x', color='k')\n",
    "        plt.title('Suggested Learning Rate: {:.2E}'.format(rec_lr))\n",
    "        return rec_lr\n",
    "\n",
    "    def suggest_lr(self, tr_history, n_samples=200):\n",
    "        tr_history = tr_history.reset_index(drop=True)\n",
    "        \n",
    "        pct_25 = int(0.25 * len(tr_history))\n",
    "        pct_75 = int(0.75 * len(tr_history))\n",
    "        \n",
    "        start_samples = sorted(np.random.choice(tr_history.index[:pct_25], n_samples // 4, replace=False))\n",
    "        middle_samples = sorted(np.random.choice(tr_history.index[pct_25:pct_75], n_samples // 2, replace=False))\n",
    "        end_samples = sorted(np.random.choice(tr_history.index[pct_75:], n_samples // 4, replace=False))\n",
    "        \n",
    "        sample_idxs = np.array(start_samples + middle_samples + end_samples)\n",
    "        xs = [x / len(tr_history) for x in sample_idxs]\n",
    "        ys = tr_history.iloc[sample_idxs].tr_loss.values\n",
    "        \n",
    "        tck = sp.interpolate.splrep(xs, ys, t=[], k=3)\n",
    "        line = sp.interpolate.splev(xs, tck, der=2)\n",
    "        rec_pct = -line[0]/(line[-1] - line[0])\n",
    "        rec_idx = int(rec_pct * len(tr_history))\n",
    "        \n",
    "        return rec_idx\n",
    "    \n",
    "    def lr_find(self, model, tr_dl, criterion, **kwargs):\n",
    "        tr_losses = []\n",
    "        lrs = []\n",
    "        self.it = 0 \n",
    "        old_params = model.state_dict()\n",
    "        while self.it <= self.nits:\n",
    "            for inputs, labels in tr_dl:\n",
    "                if self.it > self.nits:\n",
    "                    break\n",
    "                self.zero_grad()\n",
    "                outputs = model(inputs)\n",
    "                loss = criterion(outputs, labels)\n",
    "                loss.backward()\n",
    "                self.step()\n",
    "                tr_losses.append(loss.item())\n",
    "                lrs.append(self.opt.param_groups[-1]['lr'])\n",
    "        tr_losses = Smoother(beta=0.99).process(tr_losses)\n",
    "        tr_history = pd.DataFrame({'tr_loss':tr_losses, 'learning_rate':lrs})\n",
    "        rec_lr = self.plot_lr_find(tr_history)\n",
    "        model.load_state_dict(old_params)\n",
    "        return rec_lr, model"
   ]
  },
  {
   "cell_type": "code",
   "execution_count": 19,
   "metadata": {},
   "outputs": [],
   "source": [
    "import pandas as pd; import numpy as np;  import scipy as sp"
   ]
  },
  {
   "cell_type": "code",
   "execution_count": null,
   "metadata": {},
   "outputs": [],
   "source": [
    "df = pd.DataFrame({'test':np.arange(5000)})"
   ]
  },
  {
   "cell_type": "code",
   "execution_count": null,
   "metadata": {},
   "outputs": [],
   "source": [
    "sorted(np.random.choice(df.index[:int(0.25*len(df))], 5, replace=False))"
   ]
  },
  {
   "cell_type": "code",
   "execution_count": null,
   "metadata": {},
   "outputs": [],
   "source": []
  },
  {
   "cell_type": "code",
   "execution_count": null,
   "metadata": {},
   "outputs": [],
   "source": [
    "url = fastai.datasets.URLs.MNIST\n",
    "path = fastai.datasets.untar_data(url, force_download=True)\n",
    "data = fastai.vision.ImageDataBunch.from_folder(path, train='training', valid='testing')\n"
   ]
  },
  {
   "cell_type": "code",
   "execution_count": null,
   "metadata": {},
   "outputs": [],
   "source": [
    "n_samples = 200"
   ]
  },
  {
   "cell_type": "code",
   "execution_count": null,
   "metadata": {},
   "outputs": [],
   "source": [
    "n_samples // 4"
   ]
  },
  {
   "cell_type": "code",
   "execution_count": null,
   "metadata": {},
   "outputs": [],
   "source": []
  }
 ],
 "metadata": {
  "kernelspec": {
   "display_name": "Python 3",
   "language": "python",
   "name": "python3"
  },
  "language_info": {
   "codemirror_mode": {
    "name": "ipython",
    "version": 3
   },
   "file_extension": ".py",
   "mimetype": "text/x-python",
   "name": "python",
   "nbconvert_exporter": "python",
   "pygments_lexer": "ipython3",
   "version": "3.7.2"
  }
 },
 "nbformat": 4,
 "nbformat_minor": 2
}
